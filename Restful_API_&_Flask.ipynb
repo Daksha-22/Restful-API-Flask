{
  "nbformat": 4,
  "nbformat_minor": 0,
  "metadata": {
    "colab": {
      "provenance": []
    },
    "kernelspec": {
      "name": "python3",
      "display_name": "Python 3"
    },
    "language_info": {
      "name": "python"
    }
  },
  "cells": [
    {
      "cell_type": "markdown",
      "source": [
        "#Theory Questions:"
      ],
      "metadata": {
        "id": "jqgzh-n9TA0V"
      }
    },
    {
      "cell_type": "markdown",
      "source": [
        "Q1. What is a Restful API?\n",
        "\n",
        "Ans: A Restful API is a way for two systems (like a client and a server) to communicate over the web using HTTP methods (GET, POST, PUT, DELETE) to work with resources (like users, products, etc.).\n",
        "\n",
        "Example:\n",
        "\n",
        "If you have a \"Users\" resource:\n",
        "\n",
        "GET /users → Get all users\n",
        "\n",
        "GET /users/1 → Get user with ID 1\n",
        "\n",
        "POST /users → Add a new user\n",
        "\n",
        "PUT /users/1 → Update user with ID 1\n",
        "\n",
        "DELETE /users/1 → Delete user with ID 1\n",
        "\n",
        " In short: RESTful API = Web service that uses HTTP to access and manipulate resources."
      ],
      "metadata": {
        "id": "Ll86VuOaTMJf"
      }
    },
    {
      "cell_type": "markdown",
      "source": [
        "Q2. Explain the concept of API specification.\n",
        "\n",
        "Ans: An API specification is a detailed document or contract that defines how an API should behave. It describes exactly how clients (like apps or services) can interact with the API and what they can expect in return.\n",
        "\n",
        "Think of it as a blueprint for building, consuming, and understanding an API.\n",
        "\n",
        " Key Elements of an API Specification:\n",
        "\n",
        "Endpoints (URLs)\n",
        "\n",
        "The paths where resources are accessed.\n",
        "\n",
        "Example: /users, /orders/{id}\n",
        "\n",
        "HTTP Methods\n",
        "\n",
        "Defines what actions can be performed.\n",
        "\n",
        "Example: GET, POST, PUT, DELETE\n",
        "\n",
        "Request Format\n",
        "\n",
        "What data must be sent with a request (e.g., JSON body, query parameters, headers).\n",
        "\n",
        "Response Format\n",
        "\n",
        "The structure of the data returned (usually JSON or XML).\n",
        "\n",
        "Includes success and error responses.\n",
        "\n",
        "Authentication/Authorization\n",
        "\n",
        "How clients prove their identity (e.g., API keys, OAuth, JWT).\n",
        "\n",
        "Error Codes\n",
        "\n",
        "Specifies possible error responses (e.g., 404 Not Found, 401 Unauthorized).\n",
        "\n",
        "Example (API Specification for a \"User\" resource)\n",
        "\n",
        "Endpoint:\n",
        "\n",
        "    GET /users/{id}\n",
        "\n",
        "\n",
        "Description:\n",
        "Fetch details of a specific user by ID.\n",
        "\n",
        "Request:\n",
        "\n",
        "Headers: Authorization: Bearer <token>\n",
        "\n",
        "Parameters: {id} (integer, required)\n",
        "\n",
        " Response (Success 200):\n",
        "\n",
        "    {\n",
        "    \"id\": 1,\n",
        "    \"name\": \"Alice\",\n",
        "    \"email\": \"alice@example.com\"\n",
        "    }\n",
        "\n",
        "\n",
        "Response (Error 404):\n",
        "\n",
        "    {\n",
        "    \"error\": \"User not found\"\n",
        "    }\n"
      ],
      "metadata": {
        "id": "MKki1TTfVsgI"
      }
    },
    {
      "cell_type": "markdown",
      "source": [
        "Q3. What is Flask, and why is it popular for building APIs?\n",
        "\n",
        "Ans: lask is a lightweight web framework in Python that makes it easy to build web applications and APIs. It’s called a micro-framework because it provides the essential tools to get started but leaves flexibility for developers to add only the components they need.\n",
        "\n",
        "- Why Flask is popular for building APIs:\n",
        "\n",
        "1.Simplicity & Minimalism\n",
        "\n",
        "Very easy to learn and set up. A “Hello World” API takes just a few lines of code.\n",
        "\n",
        "2.Flexibility\n",
        "\n",
        "Doesn’t force you into a specific project structure. You can design the API your way.\n",
        "\n",
        "3.Lightweight\n",
        "\n",
        "Ships with only the core essentials (routing, request/response handling), so it’s fast and not bloated.\n",
        "\n",
        "4.Extensibility\n",
        "\n",
        "Huge ecosystem of extensions (for authentication, database integration, input validation, etc.).\n",
        "\n",
        "5.Built-in Development Server\n",
        "\n",
        "Lets you quickly test APIs without extra configuration.\n",
        "\n",
        "6.Integration with Python\n",
        "\n",
        "Since it’s pure Python, it works seamlessly with libraries like NumPy, Pandas, SQLAlchemy, TensorFlow, etc.\n",
        "\n",
        "Example: Simple REST API with Flask\n",
        "\n",
        "    from flask import Flask, jsonify, request\n",
        "\n",
        "    app = Flask(__name__)\n",
        "\n",
        "    #Sample data\n",
        "    users = [\n",
        "    {\"id\": 1, \"name\": \"Alice\"},\n",
        "    {\"id\": 2, \"name\": \"Bob\"}\n",
        "    ]\n",
        "\n",
        "    # GET all users\n",
        "    @app.route('/users', methods=['GET'])\n",
        "    def get_users():\n",
        "    return jsonify(users)\n",
        "\n",
        "    #GET user by ID\n",
        "    @app.route('/users/<int:user_id>', methods=['GET'])\n",
        "    def get_user(user_id):\n",
        "    user = next((u for u in users if u[\"id\"] == user_id), None)\n",
        "    return jsonify(user) if user else (\"User not found\", 404)\n",
        "\n",
        "    #POST create new user\n",
        "    @app.route('/users', methods=['POST'])\n",
        "    def create_user():\n",
        "    new_user = request.get_json()\n",
        "    users.append(new_user)\n",
        "    return jsonify(new_user), 201\n",
        "\n",
        "    if __name__ == '__main__':\n",
        "    app.run(debug=True)\n",
        "\n",
        "\n",
        "    Running this lets you call endpoints like:\n",
        "\n",
        "    GET /users → Returns all users\n",
        "\n",
        "    GET /users/1 → Returns Alice\n",
        "\n",
        "    POST /users with JSON body → Adds a new user"
      ],
      "metadata": {
        "id": "siZHu7g8XSib"
      }
    },
    {
      "cell_type": "markdown",
      "source": [
        "Q4. What is routing in Flask?\n",
        "\n",
        "Ans: In Flask, routing is the way you define which URL (path) should trigger which function in your application.\n",
        "\n",
        "When a user visits a URL (like /home or /about), Flask looks at the route you defined and calls the corresponding function (called a view function) to generate the response.\n",
        "\n",
        "Example of Routing in Flask:\n",
        "\n",
        "    from flask import Flask\n",
        "\n",
        "    app = Flask(__name__)\n",
        "\n",
        "    @app.route(\"/\")   # route for home page\n",
        "    def home():\n",
        "    return \"Welcome to the Home Page!\"\n",
        "\n",
        "    @app.route(\"/about\")   # route for about page\n",
        "    def about():\n",
        "    return \"This is the About Page.\"\n",
        "\n",
        "\n",
        "    http://127.0.0.1:5000/ -> Calls home() and shows Welcome to the Home Page!\n",
        "\n",
        "    http://127.0.0.1:5000/about -> Calls about() and shows This is the About Page.\n",
        "\n",
        "\n",
        "\n"
      ],
      "metadata": {
        "id": "Ve-Sqcu_xANc"
      }
    },
    {
      "cell_type": "markdown",
      "source": [
        "Q5.How do you create a simple Flask application?\n",
        "\n",
        "Ans: Creating a simple flask app can be followed as:\n",
        "\n",
        "- Steps to Create a Simple Flask App:\n",
        "\n",
        "Install Flask (if not already installed):\n",
        "\n",
        "pip install flask\n",
        "\n",
        "\n",
        "Write the Flask app (app.py):\n",
        "\n",
        "    from flask import Flask\n",
        "\n",
        "    #create Flask application\n",
        "    app = Flask(__name__)\n",
        "\n",
        "    #define a route\n",
        "    @app.route(\"/\")\n",
        "    def home():\n",
        "    return \"Hello, Flask! 🚀\"\n",
        "\n",
        "    #run the app\n",
        "    if __name__ == \"__main__\":\n",
        "    app.run(debug=True)\n",
        "\n",
        "\n",
        "Run the application:\n",
        "\n",
        "    python app.py\n",
        "\n",
        "\n",
        "Open in browser:\n",
        "    Go to http://127.0.0.1:5000/ → You’ll see:\n",
        "\n",
        "    Hello, Flask! 🚀\n",
        "\n",
        "Key Points:\n",
        "\n",
        "Flask(__name__) → Creates the Flask app.\n",
        "\n",
        "@app.route(\"/\") → Maps the root URL (/) to the home() function.\n",
        "\n",
        "app.run(debug=True) → Starts the development server with debug mode (auto-reloads on changes)."
      ],
      "metadata": {
        "id": "-butdBANKbh1"
      }
    },
    {
      "cell_type": "markdown",
      "source": [
        "Q6. What are HTTP methods used in RESTful APIs?\n",
        "\n",
        "Ans: In RESTful APIs, the interaction with resources is done through standard HTTP methods. Each method represents a specific action on a resource.\n",
        "\n",
        " Common HTTP Methods in RESTful APIs:\n",
        "\n",
        "1.GET\n",
        "\n",
        "Purpose: Retrieve data from the server.\n",
        "\n",
        "Example:\n",
        "\n",
        "GET /users\n",
        "GET /users/1\n",
        "\n",
        "\n",
        "→ Fetches all users or a specific user.\n",
        "\n",
        "2.POST\n",
        "\n",
        "Purpose: Create a new resource on the server.\n",
        "\n",
        "Example:\n",
        "\n",
        "POST /users\n",
        "Body: { \"name\": \"Alice\", \"email\": \"alice@example.com\" }\n",
        "\n",
        "\n",
        "→ Creates a new user.\n",
        "\n",
        "3. PUT\n",
        "\n",
        "Purpose: Update an existing resource (replace it completely).\n",
        "\n",
        "Example:\n",
        "\n",
        "PUT /users/1\n",
        "Body: { \"name\": \"Alice Smith\", \"email\": \"alice.smith@example.com\" }\n",
        "\n",
        "\n",
        "→ Replaces user with ID 1.\n",
        "\n",
        "4.PATCH\n",
        "\n",
        "Purpose: Partially update an existing resource.\n",
        "\n",
        "Example:\n",
        "\n",
        "PATCH /users/1\n",
        "Body: { \"email\": \"alice.new@example.com\" }\n",
        "\n",
        "\n",
        "→ Updates only the email of user 1.\n",
        "\n",
        "5. DELETE\n",
        "\n",
        "Purpose: Remove a resource from the server.\n",
        "\n",
        "Example:\n",
        "\n",
        "DELETE /users/1\n",
        "\n",
        "\n",
        "→ Deletes user with ID 1."
      ],
      "metadata": {
        "id": "vXrnskZILwvG"
      }
    },
    {
      "cell_type": "markdown",
      "source": [
        "Q7.What is the purpose of the @app.route() decorator in Flask?\n",
        "\n",
        "Ans: In Flask, the @app.route() decorator is used to map a URL path (route) to a function (called a view function).\n",
        "When a user visits that URL, Flask executes the associated function and returns its response.\n",
        "\n",
        " Purpose of @app.route():\n",
        "\n",
        "Defines routes (URLs) for your web application or API.\n",
        "\n",
        "Connects an endpoint (like /home or /about) to the function that should handle the request.\n",
        "\n",
        "Can also specify HTTP methods (GET, POST, etc.) that are allowed for that route.\n",
        "\n",
        "Example:\n",
        "\n",
        "    from flask import Flask\n",
        "    app = Flask(__name__)\n",
        "\n",
        "    @app.route(\"/\")   # maps the root URL\n",
        "    def home():\n",
        "    return \"Welcome to the Home Page!\"\n",
        "\n",
        "    @app.route(\"/about\")   # maps /about\n",
        "    def about():\n",
        "    return \"This is the About Page.\"\n",
        "\n",
        "    if __name__ == \"__main__\":\n",
        "    app.run(debug=True)\n",
        "\n",
        "\n",
        "Visiting / → calls home() → shows Welcome to the Home Page!\n",
        "\n",
        "Visiting /about → calls about() → shows This is the About Page."
      ],
      "metadata": {
        "id": "AfsyLdmjMh0i"
      }
    },
    {
      "cell_type": "markdown",
      "source": [
        "Q8. What is the difference between GET and POST HTTP methods?\n",
        "\n",
        "Ans: GET vs POST\n",
        "\n",
        "Purpose → GET: Retrieve data | POST: Send/submit data\n",
        "\n",
        "Data Location → GET: Sent in URL (query string) | POST: Sent in request body\n",
        "\n",
        "Visibility → GET: Visible in browser URL | POST: Hidden from URL\n",
        "\n",
        "Length Limit → GET: Limited by URL length (~2000 chars) | POST: No significant size limit (good for files/forms)\n",
        "\n",
        "Caching → GET: Can be cached | POST: Not usually cached\n",
        "\n",
        "Idempotency → GET: Safe & idempotent (no side effects) | POST: Not idempotent (may create duplicates)\n",
        "\n",
        "Use Case → GET: Fetch resources | POST: Create/submit data (forms, uploads)"
      ],
      "metadata": {
        "id": "Oegi4ySgNTP7"
      }
    },
    {
      "cell_type": "markdown",
      "source": [
        "Q9. How do you handle errors in Flask APIs?\n",
        "\n",
        "Ans: Ways to Handle Errors in Flask APIs:\n",
        "1. Using abort() for Simple Errors\n",
        "\n",
        "Flask provides the abort() function to quickly send error responses.\n",
        "\n",
        "    from flask import Flask, jsonify, abort\n",
        "\n",
        "    app = Flask(__name__)\n",
        "\n",
        "    @app.route(\"/user/<int:user_id>\")\n",
        "    def get_user(user_id):\n",
        "    if user_id != 1:\n",
        "        abort(404)  # user not found\n",
        "    return jsonify({\"id\": 1, \"name\": \"Alice\"})\n",
        "\n",
        "\n",
        "Visiting /user/2 → returns 404 Not Found.\n",
        "\n",
        "2. Custom Error Handlers with @app.errorhandler\n",
        "\n",
        "You can define custom responses for specific error codes:\n",
        "\n",
        "    @app.errorhandler(404)\n",
        "    def not_found(error):\n",
        "    return jsonify({\"error\": \"Resource not found\"}), 404\n",
        "\n",
        "    @app.errorhandler(500)\n",
        "    def internal_error(error):\n",
        "    return jsonify({\"error\": \"Something went wrong on the server\"}), 500\n",
        "\n",
        "\n",
        "Now your API will always return JSON instead of raw HTML error pages.\n",
        "\n",
        "3. Returning Errors Manually\n",
        "\n",
        "You can return JSON responses with error codes:\n",
        "\n",
        "    @app.route(\"/divide\")\n",
        "    def divide():\n",
        "    try:\n",
        "        a, b = 10, 0\n",
        "        result = a / b\n",
        "        return jsonify({\"result\": result})\n",
        "    except ZeroDivisionError:\n",
        "        return jsonify({\"error\": \"Division by zero is not allowed\"}), 400\n",
        "\n",
        "4. Global Error Handling (for APIs)\n",
        "\n",
        "For larger APIs, it’s common to catch errors globally and return standardized error responses (like using a middleware or Flask extensions such as Flask-RESTful)."
      ],
      "metadata": {
        "id": "THjj1P2jN5ey"
      }
    },
    {
      "cell_type": "markdown",
      "source": [
        "Q10. How do you connect Flask to a SQL database?\n",
        "\n",
        "Ans: Steps to Connect Flask to a SQL Database\n",
        "1.Install Flask-SQLAlchemy\n",
        "    \n",
        "    pip install flask-sqlalchemy\n",
        "\n",
        "2. Configure the Database in Flask\n",
        "\n",
        "You set the database connection string in app.config.\n",
        "\n",
        "->For SQLite:\n",
        "\n",
        "    app.config['SQLALCHEMY_DATABASE_URI'] = 'sqlite:///mydatabase.db'\n",
        "\n",
        "\n",
        "->For MySQL:\n",
        "\n",
        "    app.config['SQLALCHEMY_DATABASE_URI'] = 'mysql+pymysql://user           name:password@localhost/mydatabase'\n",
        "\n",
        "\n",
        "->For PostgreSQL:\n",
        "\n",
        "    app.config['SQLALCHEMY_DATABASE_URI'] = 'postgresql://\n",
        "    username:password@localhost/mydatabase'\n",
        "\n",
        "3. Create a Database Model\n",
        "\n",
        "Models represent tables in the database.\n",
        "\n",
        "    from flask import Flask\n",
        "    from flask_sqlalchemy import SQLAlchemy\n",
        "\n",
        "    app = Flask(__name__)\n",
        "    app.config['SQLALCHEMY_DATABASE_URI'] = 'sqlite:///mydatabase.db'\n",
        "    db = SQLAlchemy(app)\n",
        "\n",
        "    #Define a model (table)\n",
        "    class User(db.Model):\n",
        "    id = db.Column(db.Integer, primary_key=True)\n",
        "    name = db.Column(db.String(50), nullable=False)\n",
        "    email = db.Column(db.String(120), unique=True, nullable=False)\n",
        "\n",
        "4. Create the Database and Tables\n",
        "\n",
        "In a Python shell or at the bottom of your script:\n",
        "\n",
        "    with app.app_context():\n",
        "    db.create_all()\n",
        "\n",
        "\n",
        "This will generate a mydatabase.db file (if using SQLite) with a User table.\n",
        "\n",
        "5.Insert and Query Data\n",
        "\n",
        "    #Insert a user\n",
        "\n",
        "    with app.app_context():\n",
        "    new_user = User(name=\"Alice\", email=\"alice@example.com\")\n",
        "    db.session.add(new_user)\n",
        "    db.session.commit()\n",
        "\n",
        "    #Query users\n",
        "\n",
        "    with app.app_context():\n",
        "    users = User.query.all()\n",
        "    for user in users:\n",
        "        print(user.name, user.email)\n"
      ],
      "metadata": {
        "id": "YDfKoSTUO473"
      }
    },
    {
      "cell_type": "markdown",
      "source": [
        "Q11. What is the role of Flask-SQLAlchemy?\n",
        "\n",
        "Ans: Role of Flask-SQLAlchemy:\n",
        "\n",
        "1. Database Connection Management\n",
        "\n",
        "Provides a simple way to configure and connect Flask apps to databases (SQLite, MySQL, PostgreSQL, etc.).\n",
        "\n",
        "2. Object Relational Mapping (ORM)\n",
        "\n",
        "Lets you interact with database tables as Python classes instead of writing raw SQL.\n",
        "\n",
        "Example:\n",
        "\n",
        "    user = User(name=\"Alice\")\n",
        "    db.session.add(user)\n",
        "    db.session.commit()\n",
        "\n",
        "\n",
        "instead of\n",
        "\n",
        "    INSERT INTO users (name) VALUES ('Alice');\n",
        "\n",
        "\n",
        "3. Model Definition\n",
        "\n",
        "You define tables as Python classes (models) with attributes mapping to table columns.\n",
        "\n",
        "4. Query Abstraction\n",
        "\n",
        "You can query data using Python methods instead of SQL strings.\n",
        "\n",
        "    users = User.query.all()\n",
        "    user = User.query.filter_by(name=\"Alice\").first()\n",
        "\n",
        "\n",
        "5. Schema Management\n",
        "\n",
        "Provides tools like db.create_all() to generate tables automatically from models.\n",
        "\n",
        "6. Integration with Flask\n",
        "\n",
        "Tightly integrates with Flask’s application context and request lifecycle."
      ],
      "metadata": {
        "id": "l-PVAWF1Qg3I"
      }
    },
    {
      "cell_type": "markdown",
      "source": [
        "Q12.What are Flask blueprints, and how are they useful?\n",
        "\n",
        "Ans:In Flask, a Blueprint is a way to organize your application into reusable, modular components. Instead of keeping all routes, views, and logic in a single app.py file, you can split them into blueprints and then register them in your main app.\n",
        "\n",
        "Blueprints are Useful for:\n",
        "\n",
        "1.Better Organization\n",
        "\n",
        "Keeps code cleaner by grouping related routes (e.g., auth, users, admin).\n",
        "\n",
        "2.Reusability\n",
        "\n",
        "A blueprint can be reused across multiple applications.\n",
        "\n",
        "3.Team Collaboration\n",
        "\n",
        "Different teams can work on different blueprints without stepping on each other’s code.\n",
        "\n",
        "4.Scalability\n",
        "\n",
        "Makes it easy to grow your app without ending up with a huge, unmanageable file."
      ],
      "metadata": {
        "id": "8btvzZYyRZof"
      }
    },
    {
      "cell_type": "markdown",
      "source": [
        "Q13.What is the purpose of Flask's request object?\n",
        "\n",
        "Ans: Purpose of Flask’s request object:\n",
        "\n",
        "1.Access request data\n",
        "\n",
        "- Query parameters (from URL) -> request.args\n",
        "\n",
        "- Form data (from HTML forms) -> request.form\n",
        "\n",
        "- JSON body (API requests) -> request.json\n",
        "\n",
        "- Uploaded files -> request.files\n",
        "\n",
        "2.Get request metadata\n",
        "\n",
        "- Request method -> request.method (GET, POST, etc.)\n",
        "\n",
        "- Headers -> request.headers\n",
        "\n",
        "- Cookies -> request.cookies\n",
        "\n",
        "- Client info -> request.remote_addr (IP address)\n",
        "\n",
        "3.Handle different HTTP methods\n",
        "\n",
        "- You can check which method was used in the request."
      ],
      "metadata": {
        "id": "wg0ykwkdSpXq"
      }
    },
    {
      "cell_type": "markdown",
      "source": [
        "Q14.  How do you create a RESTful API endpoint using Flask?\n",
        "\n",
        "Ans:"
      ],
      "metadata": {
        "id": "LclotqSdTsGX"
      }
    },
    {
      "cell_type": "markdown",
      "source": [
        "Q15. What is the purpose of Flask's jsonify() function?\n",
        "\n",
        "Ans: Purpose of jsonify():\n",
        "\n",
        "1.Convert Python objects to JSON\n",
        "\n",
        "- Turns dicts/lists into properly formatted JSON strings.\n",
        "\n",
        "2.Set correct Content-Type\n",
        "\n",
        "- Automatically sets the HTTP Content-Type header to application/json, so clients (browsers, APIs) know it’s JSON.\n",
        "\n",
        "3.Ensure proper encoding\n",
        "\n",
        "- Handles special characters and Unicode safely.\n",
        "\n",
        "4.Shortens code\n",
        "\n",
        "- You don’t need to manually import json and call json.dumps()."
      ],
      "metadata": {
        "id": "wLBPFzGwUcuc"
      }
    },
    {
      "cell_type": "markdown",
      "source": [
        "Q16. Explain Flask’s url_for() function.\n",
        "\n",
        "Ans:In Flask, the url_for() function is used to dynamically build URLs for routes in your application based on the function name, instead of hardcoding URLs as strings.\n",
        "\n",
        "Purpose of url_for():\n",
        "\n",
        "1.Avoid Hardcoding URLs\n",
        "\n",
        "- If a route’s URL changes, you don’t need to update every reference manually.\n",
        "\n",
        "2.Dynamic URL Generation\n",
        "\n",
        "- Generates URLs by referring to the view function name.\n",
        "\n",
        "3.Supports URL Parameters\n",
        "\n",
        "- Can build URLs with query parameters or dynamic parts.\n",
        "\n",
        "4.Keeps Code Maintainable\n",
        "\n",
        "- Useful when routes change often (e.g., adding /api/v1/ prefix)."
      ],
      "metadata": {
        "id": "odTPo7_yU9ej"
      }
    },
    {
      "cell_type": "markdown",
      "source": [
        "Q17.  How does Flask handle static files (CSS, JavaScript, etc.)?\n",
        "\n",
        "Ans: Flask has built-in support for serving static files (like CSS, JavaScript, and images).\n",
        "\n",
        "How Flask Handles Static Files:\n",
        "\n",
        "1.Default static/ folder\n",
        "\n",
        "- By convention, Flask expects all static files to be stored inside a folder named static/ at the root of your project.\n",
        "\n",
        "Example structure:\n",
        "\n",
        "    /my_flask_app\n",
        "     app.py\n",
        "    /static\n",
        "    style.css\n",
        "    script.js\n",
        "    logo.png\n",
        "    /templates\n",
        "    index.html\n",
        "\n",
        "\n",
        "2. Automatic URL route\n",
        "\n",
        "Flask automatically creates a route /static/<filename> to serve files.\n",
        "\n",
        "Example:\n",
        "\n",
        "    /static/style.css\n",
        "\n",
        "    /static/script.js\n",
        "\n",
        "3.Using url_for() in templates\n",
        "\n",
        "- Instead of hardcoding file paths, you use url_for('static', filename='...').\n",
        "\n",
        "- This makes your app flexible if paths change."
      ],
      "metadata": {
        "id": "8tfbmlmvVhIE"
      }
    },
    {
      "cell_type": "markdown",
      "source": [
        "Q18.What is an API specification, and how does it help in building a Flask API?\n",
        "\n",
        "Ans: An API specification is a detailed contract or blueprint that defines how a client and server should communicate with each other through the API.\n",
        "\n",
        "It describes:\n",
        "\n",
        "- Endpoints (URLs) → e.g., /users, /products/{id}\n",
        "\n",
        "- HTTP methods → GET, POST, PUT, DELETE\n",
        "\n",
        "- Request formats → what data the client must send (JSON, query params, headers)\n",
        "\n",
        "- Response formats → what data the server will return (status codes, JSON structure)\n",
        "\n",
        "- Error handling → expected error codes and messages"
      ],
      "metadata": {
        "id": "BFYXwZRwWYO3"
      }
    },
    {
      "cell_type": "markdown",
      "source": [
        "Q19.What are HTTP status codes, and why are they important in a Flask API?\n",
        "\n",
        "Ans: HTTP status codes are 3-digit numbers returned by the server in response to a client’s request.\n",
        "They tell the client whether the request was successful, failed, or needs further action.\n",
        "\n",
        "They are grouped into categories:\n",
        "\n",
        "1xx - Informational → Request received, still processing.\n",
        "\n",
        "2xx - Success → Request was successful.\n",
        "\n",
        "3xx - Redirection → Further action needed (like a redirect).\n",
        "\n",
        "4xx - Client Error → Problem with the request (bad input, not found, unauthorized).\n",
        "\n",
        "5xx - Server Error → Problem on the server side.\n",
        "\n",
        " - HTTP status code are important in a Flask API because:\n",
        "\n",
        "1.Clear Communication\n",
        "\n",
        "- Tells the client what happened (success, error, etc.) without guessing.\n",
        "\n",
        "2. Error Handling\n",
        "\n",
        "- Helps frontend developers know how to handle responses (retry, show error message, etc.).\n",
        "\n",
        "3. API Best Practices\n",
        "\n",
        "- A well-designed API always uses the correct status codes instead of returning only 200 for everything.\n",
        "\n",
        "4. Debugging\n",
        "\n",
        "- Easier to diagnose issues during development and testing."
      ],
      "metadata": {
        "id": "vrzp7Gq5W78V"
      }
    },
    {
      "cell_type": "markdown",
      "source": [
        "Q20. How do you handle POST requests in Flask?\n",
        "\n",
        "Ans: Handling POST Requests in Flask:\n",
        "\n",
        "A POST request is used to send data (like JSON, form data) from the client to the server, usually to create or update resources.\n",
        "\n",
        "In Flask, you handle it with:\n",
        "\n",
        "1.The methods=['POST'] option in @app.route()\n",
        "\n",
        "2.The request object (from flask import request) to access the incoming data."
      ],
      "metadata": {
        "id": "_sYEGG2HYfQn"
      }
    },
    {
      "cell_type": "markdown",
      "source": [
        "Q21.How would you secure a Flask API?\n",
        "\n",
        "Ans: Ways to Secure a Flask API:\n",
        "\n",
        "1.Use HTTPS → Encrypt data in transit.\n",
        "\n",
        "2.Authentication & Authorization → e.g., JWT tokens, API keys, OAuth.\n",
        "\n",
        "3.Input Validation & Sanitization → Prevent SQL injection, XSS.\n",
        "\n",
        "4.Rate Limiting → Stop abuse (e.g., Flask-Limiter).\n",
        "\n",
        "5.Error Handling → Don’t expose stack traces in production.\n",
        "\n",
        "6.CORS Control → Restrict which domains can access the API.\n",
        "\n",
        "7.Secure Config → Don’t hardcode secrets; use environment variables.\n",
        "\n",
        "8.Database Protection → Use ORM (SQLAlchemy), parameterized queries.\n",
        "\n",
        "In short: Secure Flask APIs with HTTPS, authentication, validation, rate limiting, and safe error handling."
      ],
      "metadata": {
        "id": "OX0Tzbs9ZDsS"
      }
    },
    {
      "cell_type": "markdown",
      "source": [
        "Q22. What is the significance of the Flask-RESTful extension?\n",
        "\n",
        "Ans: Key Significance:\n",
        "\n",
        "1.Resource-based classes → You define APIs as resources (classes) instead of functions.\n",
        "\n",
        "2.Automatic HTTP method handling → Each method (get(), post(), put(), delete()) maps to the correct HTTP request.\n",
        "\n",
        "3.Cleaner code structure → Makes APIs modular and easier to maintain.\n",
        "\n",
        "4.Built-in request parsing → reqparse helps validate and parse incoming request data.\n",
        "\n",
        "5.Better error handling → Returns proper status codes and JSON responses.\n",
        "\n",
        "6.Scalability → Great for larger projects with many endpoints."
      ],
      "metadata": {
        "id": "ZE1YNmB-ZzV_"
      }
    },
    {
      "cell_type": "markdown",
      "source": [
        "Q23.What is the role of Flask’s session object?\n",
        "\n",
        "Ans: Flask’s session object:\n",
        "\n",
        "The session object in Flask is used to store data for a specific user across multiple requests (i.e., between pages).\n",
        "\n",
        "It keeps track of user-specific information (like login status, preferences, shopping cart, etc.).\n",
        "\n",
        "Unlike request (which only lasts for one request), session persists until the user closes the browser or the session expires."
      ],
      "metadata": {
        "id": "JGwQT7uDajK6"
      }
    },
    {
      "cell_type": "markdown",
      "source": [
        "# Practical Questions:\n"
      ],
      "metadata": {
        "id": "waYOPN5fa9Dg"
      }
    },
    {
      "cell_type": "markdown",
      "source": [
        "1.How do you create a basic Flask application?"
      ],
      "metadata": {
        "id": "RRJEGqCkbNoE"
      }
    },
    {
      "cell_type": "code",
      "source": [
        "#install flask\n",
        "pip install flask\n",
        "\n",
        "#create a python file\n",
        "from flask import Flask\n",
        "\n",
        "# Create a Flask application instance\n",
        "app = Flask(__name__)\n",
        "\n",
        "# Define a route (URL endpoint) with a function\n",
        "@app.route(\"/\")\n",
        "def home():\n",
        "    return \"Hello, Flask!\"\n",
        "\n",
        "# Run the app\n",
        "if __name__ == \"__main__\":\n",
        "    app.run(debug=True)\n",
        "\n",
        "#Run the app\n",
        "\n",
        "python app.py\n",
        "\n",
        "\n",
        "Open in browser → Go to http://127.0.0.1:5000/ and you’ll see:\n",
        "\n",
        "Hello, Flask!\n",
        "\n"
      ],
      "metadata": {
        "id": "2FLMVLWod_rx"
      },
      "execution_count": null,
      "outputs": []
    },
    {
      "cell_type": "markdown",
      "source": [
        "Q2. How do you serve static files like images or CSS in Flask?"
      ],
      "metadata": {
        "id": "YN_ZlsBTDp0U"
      }
    },
    {
      "cell_type": "code",
      "source": [],
      "metadata": {
        "id": "ubXf2_M9DseD"
      },
      "execution_count": null,
      "outputs": []
    },
    {
      "cell_type": "markdown",
      "source": [
        "Q3. How do you define different routes with different HTTP methods in Flask?"
      ],
      "metadata": {
        "id": "4pRmniqrGYfR"
      }
    },
    {
      "cell_type": "code",
      "source": [
        "from flask import Flask, request\n",
        "\n",
        "app = Flask(__name__)\n",
        "\n",
        "@app.route(\"/\", methods=[\"GET\"])\n",
        "def home():\n",
        "    return \"This is a GET request!\"\n",
        "\n",
        "@app.route(\"/submit\", methods=[\"POST\"])\n",
        "def submit():\n",
        "    data = request.form.get(\"name\")  # Extract form data\n",
        "    return f\"Hello, {data}! (from POST request)\"\n",
        "\n",
        "@app.route(\"/update\", methods=[\"PUT\"])\n",
        "def update():\n",
        "    return \"This is a PUT request!\"\n",
        "\n",
        "@app.route(\"/delete\", methods=[\"DELETE\"])\n",
        "def delete():\n",
        "    return \"This is a DELETE request!\"\n",
        "\n",
        "if __name__ == \"__main__\":\n",
        "    app.run(debug=True)\n"
      ],
      "metadata": {
        "id": "L3t6UK2UH1Gg"
      },
      "execution_count": null,
      "outputs": []
    },
    {
      "cell_type": "markdown",
      "source": [
        "Q4. How do you render HTML templates in Flask?"
      ],
      "metadata": {
        "id": "4q2lq_FWILSR"
      }
    },
    {
      "cell_type": "code",
      "source": [
        "#Project structure\n",
        "myapp/\n",
        "│── app.py\n",
        "│── templates/\n",
        "│     ├── index.html\n",
        "│     └── about.html\n",
        "\n",
        "#Flask Code (app.py)\n",
        "from flask import Flask, render_template\n",
        "\n",
        "app = Flask(__name__)\n",
        "\n",
        "@app.route(\"/\")\n",
        "def home():\n",
        "    return render_template(\"index.html\", name=\"Daksha\")\n",
        "\n",
        "@app.route(\"/about\")\n",
        "def about():\n",
        "    return render_template(\"about.html\")\n",
        "\n",
        "if __name__ == \"__main__\":\n",
        "    app.run(debug=True)\n",
        "#Template Example (templates/index.html)\n",
        "<!DOCTYPE html>\n",
        "<html>\n",
        "<head>\n",
        "    <title>Home Page</title>\n",
        "</head>\n",
        "<body>\n",
        "    <h1>Welcome to Flask!</h1>\n",
        "    <p>Hello, {{ name }} 👋</p>\n",
        "    <a href=\"{{ url_for('about') }}\">Go to About Page</a>\n",
        "</body>\n",
        "</html>\n",
        "#Another Template (templates/about.html)\n",
        "<!DOCTYPE html>\n",
        "<html>\n",
        "<head>\n",
        "    <title>About Page</title>\n",
        "</head>\n",
        "<body>\n",
        "    <h1>About Flask</h1>\n",
        "    <p>Flask is a lightweight web framework for Python.</p>\n",
        "    <a href=\"{{ url_for('home') }}\">Back to Home</a>\n",
        "</body>\n",
        "</html>\n",
        "\n",
        "\n"
      ],
      "metadata": {
        "id": "l8LerctmIRv-"
      },
      "execution_count": null,
      "outputs": []
    },
    {
      "cell_type": "markdown",
      "source": [
        "Q5. How can you generate URLs for routes in Flask using url_for?"
      ],
      "metadata": {
        "id": "Thbw0hy_KXV1"
      }
    },
    {
      "cell_type": "code",
      "source": [
        "from flask import Flask, url_for, render_template\n",
        "\n",
        "app = Flask(__name__)\n",
        "\n",
        "@app.route(\"/\")\n",
        "def home():\n",
        "    # Generate URLs dynamically\n",
        "    about_url = url_for(\"about\")\n",
        "    return f\"Go to the <a href='{about_url}'>About Page</a>\"\n",
        "\n",
        "@app.route(\"/about\")\n",
        "def about():\n",
        "    return \"This is the About Page.\"\n",
        "\n",
        "@app.route(\"/user/<username>\")\n",
        "def profile(username):\n",
        "    return f\"Hello, {username}!\"\n",
        "\n",
        "@app.route(\"/profile\")\n",
        "def show_profile():\n",
        "    # Passing arguments to a route\n",
        "    profile_url = url_for(\"profile\", username=\"daksha\")\n",
        "    return f\"Visit your profile here: <a href='{profile_url}'>Profile</a>\"\n",
        "\n",
        "if __name__ == \"__main__\":\n",
        "    app.run(debug=True)\n"
      ],
      "metadata": {
        "id": "Q5cVoajmKvSg"
      },
      "execution_count": null,
      "outputs": []
    },
    {
      "cell_type": "markdown",
      "source": [
        "Q6.How do you handle forms in Flask?\n"
      ],
      "metadata": {
        "id": "nXP4dMwtK75K"
      }
    },
    {
      "cell_type": "code",
      "source": [
        "#Project Structure\n",
        "myapp/\n",
        "│── app.py\n",
        "│── templates/\n",
        "│     ├── form.html\n",
        "│     └── success.html\n",
        "\n",
        "#Flask App (app.py)\n",
        "from flask import Flask, render_template, request\n",
        "\n",
        "app = Flask(__name__)\n",
        "\n",
        "@app.route(\"/form\", methods=[\"GET\", \"POST\"])\n",
        "def form():\n",
        "    if request.method == \"POST\":\n",
        "        # Access form data\n",
        "        username = request.form[\"username\"]\n",
        "        email = request.form[\"email\"]\n",
        "        return render_template(\"success.html\", username=username, email=email)\n",
        "    return render_template(\"form.html\")\n",
        "\n",
        "if __name__ == \"__main__\":\n",
        "    app.run(debug=True)\n",
        "\n",
        "# Form Template (templates/form.html)\n",
        "<!DOCTYPE html>\n",
        "<html>\n",
        "<head>\n",
        "    <title>Flask Form</title>\n",
        "</head>\n",
        "<body>\n",
        "    <h1>Enter Your Details</h1>\n",
        "    <form method=\"POST\">\n",
        "        <label>Username:</label>\n",
        "        <input type=\"text\" name=\"username\" required><br><br>\n",
        "\n",
        "        <label>Email:</label>\n",
        "        <input type=\"email\" name=\"email\" required><br><br>\n",
        "\n",
        "        <button type=\"submit\">Submit</button>\n",
        "    </form>\n",
        "</body>\n",
        "</html>\n",
        "\n",
        "#Success Page (templates/success.html)\n",
        "<!DOCTYPE html>\n",
        "<html>\n",
        "<head>\n",
        "    <title>Success</title>\n",
        "</head>\n",
        "<body>\n",
        "    <h1>Form Submitted Successfully ✅</h1>\n",
        "    <p>Username: {{ username }}</p>\n",
        "    <p>Email: {{ email }}</p>\n",
        "</body>\n",
        "</html>\n"
      ],
      "metadata": {
        "id": "7-R96EI2NM1u"
      },
      "execution_count": null,
      "outputs": []
    },
    {
      "cell_type": "markdown",
      "source": [
        "Q7. How can you validate form data in Flask?"
      ],
      "metadata": {
        "id": "c5bnsKj9NloS"
      }
    },
    {
      "cell_type": "code",
      "source": [
        "from flask import Flask, render_template, request\n",
        "\n",
        "app = Flask(__name__)\n",
        "\n",
        "@app.route(\"/register\", methods=[\"GET\", \"POST\"])\n",
        "def register():\n",
        "    error = None\n",
        "    if request.method == \"POST\":\n",
        "        username = request.form.get(\"username\")\n",
        "        email = request.form.get(\"email\")\n",
        "\n",
        "        # Manual checks\n",
        "        if not username or not email:\n",
        "            error = \"All fields are required!\"\n",
        "        elif \"@\" not in email:\n",
        "            error = \"Invalid email format!\"\n",
        "        else:\n",
        "            return f\"Registration successful! Welcome, {username}\"\n",
        "\n",
        "    return render_template(\"register.html\", error=error)\n",
        "\n",
        "if __name__ == \"__main__\":\n",
        "    app.run(debug=True)\n"
      ],
      "metadata": {
        "id": "RTKsCKnxNscH"
      },
      "execution_count": null,
      "outputs": []
    },
    {
      "cell_type": "markdown",
      "source": [
        "Q8. How do you manage sessions in Flask?"
      ],
      "metadata": {
        "id": "ibzkXfPzOJB-"
      }
    },
    {
      "cell_type": "code",
      "source": [
        "from flask import Flask, session, redirect, url_for, request, render_template_string\n",
        "\n",
        "app = Flask(__name__)\n",
        "\n",
        "# Secret key is required to sign session cookies\n",
        "app.secret_key = \"my_secret_key\"\n",
        "\n",
        "@app.route('/')\n",
        "def index():\n",
        "    if 'username' in session:\n",
        "        return f\"Logged in as {session['username']} <br> <a href='/logout'>Logout</a>\"\n",
        "    return \"You are not logged in <br><a href='/login'>Login</a>\"\n",
        "\n",
        "@app.route('/login', methods=['GET', 'POST'])\n",
        "def login():\n",
        "    if request.method == 'POST':\n",
        "        session['username'] = request.form['username']  # Store data in session\n",
        "        return redirect(url_for('index'))\n",
        "    return render_template_string('''\n",
        "        <form method=\"post\">\n",
        "            <p><input type=\"text\" name=\"username\" placeholder=\"Enter username\">\n",
        "            <p><input type=\"submit\" value=\"Login\">\n",
        "        </form>\n",
        "    ''')\n",
        "\n",
        "@app.route('/logout')\n",
        "def logout():\n",
        "    session.pop('username', None)  # Remove session data\n",
        "    return redirect(url_for('index'))\n",
        "\n",
        "if __name__ == '__main__':\n",
        "    app.run(debug=True)\n"
      ],
      "metadata": {
        "id": "UhGL397jONot"
      },
      "execution_count": null,
      "outputs": []
    },
    {
      "cell_type": "markdown",
      "source": [
        "Q9.How do you redirect to a different route in Flask?"
      ],
      "metadata": {
        "id": "tDcJhWIpPFru"
      }
    },
    {
      "cell_type": "code",
      "source": [
        "from flask import Flask, redirect, url_for\n",
        "\n",
        "app = Flask(__name__)\n",
        "\n",
        "@app.route('/')\n",
        "def home():\n",
        "    return \"Welcome to the Home Page! <br><a href='/go'>Go to Dashboard</a>\"\n",
        "\n",
        "@app.route('/go')\n",
        "def go():\n",
        "    # Redirecting to another route\n",
        "    return redirect(url_for('dashboard'))\n",
        "\n",
        "@app.route('/dashboard')\n",
        "def dashboard():\n",
        "    return \"This is the Dashboard!\"\n",
        "\n",
        "if __name__ == '__main__':\n",
        "    app.run(debug=True)\n"
      ],
      "metadata": {
        "id": "1MUFYXvGPYbT"
      },
      "execution_count": null,
      "outputs": []
    },
    {
      "cell_type": "markdown",
      "source": [
        "Q10.How do you handle errors in Flask (e.g., 404)?"
      ],
      "metadata": {
        "id": "-V-kQwBYPawY"
      }
    },
    {
      "cell_type": "code",
      "source": [
        "from flask import Flask, render_template\n",
        "\n",
        "app = Flask(__name__)\n",
        "\n",
        "@app.route('/')\n",
        "def home():\n",
        "    return \"Welcome to the Home Page!\"\n",
        "\n",
        "# Custom 404 error handler\n",
        "@app.errorhandler(404)\n",
        "def page_not_found(error):\n",
        "    return render_template(\"404.html\"), 404\n",
        "\n",
        "# Custom 500 error handler\n",
        "@app.errorhandler(500)\n",
        "def internal_server_error(error):\n",
        "    return \"Something went wrong on the server!\", 500\n",
        "\n",
        "if __name__ == '__main__':\n",
        "    app.run(debug=True)\n"
      ],
      "metadata": {
        "id": "4ecYHXbmPg76"
      },
      "execution_count": null,
      "outputs": []
    },
    {
      "cell_type": "markdown",
      "source": [
        "Q11.How do you structure a Flask app using Blueprints?"
      ],
      "metadata": {
        "id": "5OThGmYZPpX_"
      }
    },
    {
      "cell_type": "code",
      "source": [
        "#Project Structure\n",
        "myapp/\n",
        "│\n",
        "├── app.py               # Main application entry\n",
        "├── home/                # A blueprint folder\n",
        "│   ├── __init__.py\n",
        "│   └── routes.py\n",
        "└── auth/                # Another blueprint folder\n",
        "    ├── __init__.py\n",
        "    └── routes.py\n",
        "\n",
        "#home/routes.py (Home Blueprint)\n",
        "from flask import Blueprint\n",
        "\n",
        "# Define a blueprint\n",
        "home_bp = Blueprint('home', __name__)\n",
        "\n",
        "@home_bp.route('/')\n",
        "def home():\n",
        "    return \"Welcome to the Home Page!\"\n",
        "\n",
        "#auth/routes.py (Auth Blueprint)\n",
        "from flask import Blueprint\n",
        "\n",
        "# Define a blueprint\n",
        "auth_bp = Blueprint('auth', __name__)\n",
        "\n",
        "@auth_bp.route('/login')\n",
        "def login():\n",
        "    return \"Login Page\"\n",
        "\n",
        "@auth_bp.route('/logout')\n",
        "def logout():\n",
        "    return \"Logout Page\"\n",
        "\n",
        "#app.py (Main Application)\n",
        "from flask import Flask\n",
        "from home.routes import home_bp\n",
        "from auth.routes import auth_bp\n",
        "\n",
        "app = Flask(__name__)\n",
        "\n",
        "# Register Blueprints\n",
        "app.register_blueprint(home_bp)\n",
        "app.register_blueprint(auth_bp, url_prefix=\"/auth\")  # Add prefix for all auth routes\n",
        "\n",
        "if __name__ == \"__main__\":\n",
        "    app.run(debug=True)\n"
      ],
      "metadata": {
        "id": "YWogyVKtPwJS"
      },
      "execution_count": null,
      "outputs": []
    },
    {
      "cell_type": "markdown",
      "source": [
        "Q12. How do you define a custom Jinja filter in Flask?"
      ],
      "metadata": {
        "id": "rlMvEfFMQMRg"
      }
    },
    {
      "cell_type": "code",
      "source": [
        "from flask import Flask, render_template\n",
        "\n",
        "app = Flask(__name__)\n",
        "\n",
        "# 1. Define a custom filter using decorator\n",
        "@app.template_filter('reverse')\n",
        "def reverse_filter(s):\n",
        "    return s[::-1]\n",
        "\n",
        "# 2. Alternatively, you can register manually:\n",
        "def uppercase_filter(s):\n",
        "    return s.upper()\n",
        "\n",
        "app.add_template_filter(uppercase_filter, 'uppercase')\n",
        "\n",
        "\n",
        "@app.route('/')\n",
        "def home():\n",
        "    return render_template('index.html', name=\"Daksha\")\n",
        "\n",
        "\n",
        "if __name__ == '__main__':\n",
        "    app.run(debug=True)\n",
        "\n",
        "#templates/index.html\n",
        "<!DOCTYPE html>\n",
        "<html>\n",
        "<head>\n",
        "    <title>Custom Jinja Filters</title>\n",
        "</head>\n",
        "<body>\n",
        "    <h2>Original: {{ name }}</h2>\n",
        "    <h2>Reversed: {{ name | reverse }}</h2>\n",
        "    <h2>Uppercase: {{ name | uppercase }}</h2>\n",
        "</body>\n",
        "</html>\n",
        "\n",
        "#Output:\n",
        "If name = \"Daksha\":\n",
        "\n",
        "Original: Daksha\n",
        "Reversed: ahskaD\n",
        "Uppercase: DAKSHA"
      ],
      "metadata": {
        "id": "lSjpAtq2Sz0Q"
      },
      "execution_count": null,
      "outputs": []
    },
    {
      "cell_type": "markdown",
      "source": [
        "Q13.How can you redirect with query parameters in Flask?"
      ],
      "metadata": {
        "id": "_HoTxAGlTf2J"
      }
    },
    {
      "cell_type": "code",
      "source": [
        "from flask import Flask, redirect, url_for, request\n",
        "\n",
        "app = Flask(__name__)\n",
        "\n",
        "@app.route('/')\n",
        "def home():\n",
        "    return \"Welcome! <br><a href='/go'>Go with query params</a>\"\n",
        "\n",
        "@app.route('/go')\n",
        "def go():\n",
        "    # Redirect with query parameters\n",
        "    return redirect(url_for('greet', name='Daksha', age=21))\n",
        "\n",
        "@app.route('/greet')\n",
        "def greet():\n",
        "    name = request.args.get('name')\n",
        "    age = request.args.get('age')\n",
        "    return f\"Hello {name}, you are {age} years old!\"\n",
        "\n",
        "if __name__ == '__main__':\n",
        "    app.run(debug=True)\n"
      ],
      "metadata": {
        "id": "mFbcIaXET2GQ"
      },
      "execution_count": null,
      "outputs": []
    },
    {
      "cell_type": "markdown",
      "source": [
        "Q14.How do you return JSON responses in Flask?"
      ],
      "metadata": {
        "id": "v00HdDrvUFWi"
      }
    },
    {
      "cell_type": "code",
      "source": [
        "from flask import Flask, jsonify\n",
        "\n",
        "app = Flask(__name__)\n",
        "\n",
        "@app.route('/api/user')\n",
        "def get_user():\n",
        "    user = {\n",
        "        \"id\": 1,\n",
        "        \"name\": \"Daksha\",\n",
        "        \"email\": \"daksha@example.com\"\n",
        "    }\n",
        "    return jsonify(user)   # Converts dict → JSON + sets Content-Type to application/json\n",
        "\n",
        "if __name__ == '__main__':\n",
        "    app.run(debug=True)\n",
        "#Output (at /api/user):\n",
        "{\n",
        "  \"email\": \"daksha@example.com\",\n",
        "  \"id\": 1,\n",
        "  \"name\": \"Daksha\"\n",
        "}\n"
      ],
      "metadata": {
        "id": "66vGMGhWULzL"
      },
      "execution_count": null,
      "outputs": []
    },
    {
      "cell_type": "markdown",
      "source": [
        "Q15.How do you capture URL parameters in Flask?"
      ],
      "metadata": {
        "id": "WSbAFaDJUv_e"
      }
    },
    {
      "cell_type": "code",
      "source": [
        "from flask import Flask\n",
        "\n",
        "app = Flask(__name__)\n",
        "\n",
        "# Capture a string parameter\n",
        "@app.route('/user/<username>')\n",
        "def show_user(username):\n",
        "    return f\"Hello, {username}!\"\n",
        "\n",
        "# Capture an integer parameter\n",
        "@app.route('/post/<int:post_id>')\n",
        "def show_post(post_id):\n",
        "    return f\"Post ID: {post_id}\"\n",
        "\n",
        "# Capture multiple parameters\n",
        "@app.route('/book/<string:title>/<int:year>')\n",
        "def book(title, year):\n",
        "    return f\"Book: {title}, Published in {year}\"\n",
        "\n",
        "if __name__ == '__main__':\n",
        "    app.run(debug=True)\n"
      ],
      "metadata": {
        "id": "3lnb6X78U-R6"
      },
      "execution_count": null,
      "outputs": []
    }
  ]
}